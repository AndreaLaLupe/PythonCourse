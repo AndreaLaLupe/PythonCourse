{
  "nbformat": 4,
  "nbformat_minor": 0,
  "metadata": {
    "colab": {
      "provenance": [],
      "authorship_tag": "ABX9TyPR1/HqA+b8RNLz2t5Wz/86",
      "include_colab_link": true
    },
    "kernelspec": {
      "name": "python3",
      "display_name": "Python 3"
    },
    "language_info": {
      "name": "python"
    }
  },
  "cells": [
    {
      "cell_type": "markdown",
      "metadata": {
        "id": "view-in-github",
        "colab_type": "text"
      },
      "source": [
        "<a href=\"https://colab.research.google.com/github/AndreaLaLupe/PythonCourse/blob/main/Procesamiento.ipynb\" target=\"_parent\"><img src=\"https://colab.research.google.com/assets/colab-badge.svg\" alt=\"Open In Colab\"/></a>"
      ]
    },
    {
      "cell_type": "markdown",
      "source": [
        "## **Función**"
      ],
      "metadata": {
        "id": "SL3Rs7yWJBMt"
      }
    },
    {
      "cell_type": "markdown",
      "source": [
        "En vez de escribir 10 veces el mismo proceso en diferentes lugares de nuestro código, podemos escribir una función que contenga ese proceso y simplemente usarla en los 10 lugares donde suceda ese proceso."
      ],
      "metadata": {
        "id": "tw737kAzJnfA"
      }
    },
    {
      "cell_type": "code",
      "source": [
        "def multiplicar_numero_por_pi(numero):\n",
        "    resultado = numero * 3.14\n",
        "\n",
        "    return resultado"
      ],
      "metadata": {
        "id": "8lBcq4iAI_Y7"
      },
      "execution_count": 16,
      "outputs": []
    },
    {
      "cell_type": "code",
      "source": [
        "multiplicar_numero_por_pi(6)"
      ],
      "metadata": {
        "colab": {
          "base_uri": "https://localhost:8080/"
        },
        "id": "SQgDS-k-Oxvs",
        "outputId": "c53e41f3-32b3-4776-8173-2301f1c64996"
      },
      "execution_count": 17,
      "outputs": [
        {
          "output_type": "execute_result",
          "data": {
            "text/plain": [
              "18.84"
            ]
          },
          "metadata": {},
          "execution_count": 17
        }
      ]
    },
    {
      "cell_type": "markdown",
      "source": [
        "*   La declaración comienza con la palabra def.\n",
        "*   El nombre de la función sigue las mismas convenciones de nombramiento que las variables (snake_case).\n",
        "*   Los parámetros de la función van dentro del paréntesis.\n",
        "*   Hay unos dos puntos (:) después del paréntesis que indican el inicio del bloque de la función\n",
        "*   El bloque de la función (todos los procesos que se van a llevar a cabo cuando llamemos la función) deben de estar indentados. Lo que está indentado es parte de la función. En cuanto hay una línea que no esté indentada, eso indica que la definición de la función ha terminado.\n",
        "*   Las funciones tienen una sentencia return que regresa el resultado de nuestro proceso para que pueda ser utilizado en otras partes de nuestro programa."
      ],
      "metadata": {
        "id": "P-Dj4A9_J1aU"
      }
    },
    {
      "cell_type": "markdown",
      "source": [
        "### **Parámetros**"
      ],
      "metadata": {
        "id": "F5oqvWnXKOeO"
      }
    },
    {
      "cell_type": "markdown",
      "source": [
        "Los parámetros de una función son los nombres de los valores que le pasamos a la función cada vez que la llamamos. La función utiliza estos parámetros para realizar sus procesos. Estos parámetros son los ingredientes necesarios para que la función lleve a cabo su proceso. Sin parámetros, las funciones harían siempre lo mismo:"
      ],
      "metadata": {
        "id": "ajs9DUXDKSE9"
      }
    },
    {
      "cell_type": "code",
      "execution_count": 10,
      "metadata": {
        "colab": {
          "base_uri": "https://localhost:8080/"
        },
        "id": "CsFM6CGrG31u",
        "outputId": "06ecb3f4-dc52-46ec-a946-af36552769d6"
      },
      "outputs": [
        {
          "output_type": "stream",
          "name": "stdout",
          "text": [
            "El resultado es: 20\n",
            "20\n",
            "El resultado es: 20\n",
            "20\n"
          ]
        }
      ],
      "source": [
        "def esta_funcion_hace_siempre_lo_mismo():\n",
        "\n",
        "    resultado = 2 * 10\n",
        "    print(f'El resultado es: {resultado}')\n",
        "    return resultado\n",
        "\n",
        "print(esta_funcion_hace_siempre_lo_mismo())\n",
        "print(esta_funcion_hace_siempre_lo_mismo())"
      ]
    },
    {
      "cell_type": "code",
      "source": [
        "def esta_funcion_multiplica_el_argumento_por_10_y_lo_regresa(parametro):\n",
        "\n",
        "    resultado = parametro * 10\n",
        "\n",
        "    return resultado\n",
        "\n",
        "print(esta_funcion_multiplica_el_argumento_por_10_y_lo_regresa(4))\n",
        "print(esta_funcion_multiplica_el_argumento_por_10_y_lo_regresa(10))"
      ],
      "metadata": {
        "colab": {
          "base_uri": "https://localhost:8080/"
        },
        "id": "EneFUDPdKgUI",
        "outputId": "c13eb22b-4e49-47ee-f829-fe6b8ac22946"
      },
      "execution_count": 28,
      "outputs": [
        {
          "output_type": "stream",
          "name": "stdout",
          "text": [
            "40\n",
            "100\n"
          ]
        }
      ]
    },
    {
      "cell_type": "markdown",
      "source": [
        "## **Map**"
      ],
      "metadata": {
        "id": "GCvi8qfzLy_a"
      }
    },
    {
      "cell_type": "markdown",
      "source": [
        "Muchas veces vamos a querer aplicar funciones a cada uno de los elementos en una lista. Aplicar funciones \"elemento por elemento\" a una lista es bastante tedioso sin utilizar la función map. Por suerte, map hace todo muy fácil e intuitivo."
      ],
      "metadata": {
        "id": "u8ILu4LkL2Oc"
      }
    },
    {
      "cell_type": "code",
      "source": [
        "numeros = [1, 2, 3, 4, 5, 6, 7, 8, 9, 10]"
      ],
      "metadata": {
        "id": "TJcUVpezMDEc"
      },
      "execution_count": 11,
      "outputs": []
    },
    {
      "cell_type": "code",
      "source": [
        "def multiplicar_por_10(numero):\n",
        "\n",
        "    return numero * 10"
      ],
      "metadata": {
        "id": "tJOGCfIrMHt3"
      },
      "execution_count": 12,
      "outputs": []
    },
    {
      "cell_type": "code",
      "source": [
        "list(map(multiplicar_por_10, numeros))\n",
        "#map(multiplicar_por_10, numeros)"
      ],
      "metadata": {
        "colab": {
          "base_uri": "https://localhost:8080/"
        },
        "id": "ITCOil3DMJqr",
        "outputId": "433ab42b-5c58-415b-9318-eb5e39d04ccc"
      },
      "execution_count": 15,
      "outputs": [
        {
          "output_type": "execute_result",
          "data": {
            "text/plain": [
              "[10, 20, 30, 40, 50, 60, 70, 80, 90, 100]"
            ]
          },
          "metadata": {},
          "execution_count": 15
        }
      ]
    },
    {
      "cell_type": "code",
      "source": [
        "def convertir_en_0_si_menor_a_5(numero):\n",
        "\n",
        "    if numero < 5:\n",
        "        return 0\n",
        "    else:\n",
        "        return numero\n",
        "\n",
        "list(map(convertir_en_0_si_menor_a_5, numeros))"
      ],
      "metadata": {
        "colab": {
          "base_uri": "https://localhost:8080/"
        },
        "id": "lYUKhY1hMcwb",
        "outputId": "33335cf8-5e92-4139-ab95-cf9048afc5fc"
      },
      "execution_count": 18,
      "outputs": [
        {
          "output_type": "execute_result",
          "data": {
            "text/plain": [
              "[0, 0, 0, 0, 5, 6, 7, 8, 9, 10]"
            ]
          },
          "metadata": {},
          "execution_count": 18
        }
      ]
    },
    {
      "cell_type": "markdown",
      "source": [
        "## **Filter**"
      ],
      "metadata": {
        "id": "tAxGo6C3MqtZ"
      }
    },
    {
      "cell_type": "markdown",
      "source": [
        "filter recibe una función y una lista, y regresa una nueva lista con los elementos que fueron filtrados. La función debe de regresar True o False. Cada que la función regresa True, el elemento al que le fue aplicado la función se agrega a la nueva lista. Cada que la función regresa False (o None), el elemento al que le fue aplicado la función es descartado."
      ],
      "metadata": {
        "id": "5wjrecWoM5kL"
      }
    },
    {
      "cell_type": "code",
      "source": [
        "def palabra_tiene_mas_de_5_caracteres(palabra):\n",
        "\n",
        "    if len(palabra) > 5:\n",
        "        return True\n",
        "\n",
        "palabras = [\"achicoria\", \"pasto\", \"sol\", \"loquillo\", \"moquillo\", \"sed\", \"pez\", \"jacaranda\", \"mil\"]\n",
        "\n",
        "list(filter(palabra_tiene_mas_de_5_caracteres, palabras))"
      ],
      "metadata": {
        "colab": {
          "base_uri": "https://localhost:8080/"
        },
        "id": "VyAJrOwuM6SE",
        "outputId": "1c223c88-f940-4377-cc91-70621fd43244"
      },
      "execution_count": 19,
      "outputs": [
        {
          "output_type": "execute_result",
          "data": {
            "text/plain": [
              "['achicoria', 'loquillo', 'moquillo', 'jacaranda']"
            ]
          },
          "metadata": {},
          "execution_count": 19
        }
      ]
    },
    {
      "cell_type": "markdown",
      "source": [
        "## **And, or, not**"
      ],
      "metadata": {
        "id": "r6HHNekLNPaG"
      }
    },
    {
      "cell_type": "code",
      "source": [
        "def numero_es_divisible_entre_3(numero):\n",
        "\n",
        "    if numero % 3 == 0:\n",
        "        return True\n",
        "    else:\n",
        "        return False"
      ],
      "metadata": {
        "id": "gDN3cBt7NSnf"
      },
      "execution_count": 20,
      "outputs": []
    },
    {
      "cell_type": "code",
      "source": [
        "def numero_es_menor_que_10(numero):\n",
        "\n",
        "    if numero < 10:\n",
        "        return True\n",
        "    else:\n",
        "        return False"
      ],
      "metadata": {
        "id": "ubfw0igKNaZ-"
      },
      "execution_count": 21,
      "outputs": []
    },
    {
      "cell_type": "code",
      "source": [
        "numero_es_divisible_entre_3(9) and numero_es_menor_que_10(9)"
      ],
      "metadata": {
        "colab": {
          "base_uri": "https://localhost:8080/"
        },
        "id": "vfCAApS-NdjX",
        "outputId": "c4cbf924-b84a-44c9-9981-fd81268daebe"
      },
      "execution_count": 22,
      "outputs": [
        {
          "output_type": "execute_result",
          "data": {
            "text/plain": [
              "True"
            ]
          },
          "metadata": {},
          "execution_count": 22
        }
      ]
    },
    {
      "cell_type": "code",
      "source": [
        "numero_es_divisible_entre_3(9) or numero_es_menor_que_10(9)"
      ],
      "metadata": {
        "colab": {
          "base_uri": "https://localhost:8080/"
        },
        "id": "brHlAO6LNlH2",
        "outputId": "ca5625b7-a95e-4214-9a97-6b67846025ff"
      },
      "execution_count": 23,
      "outputs": [
        {
          "output_type": "execute_result",
          "data": {
            "text/plain": [
              "True"
            ]
          },
          "metadata": {},
          "execution_count": 23
        }
      ]
    },
    {
      "cell_type": "code",
      "source": [
        "not(numero_es_divisible_entre_3(9))"
      ],
      "metadata": {
        "colab": {
          "base_uri": "https://localhost:8080/"
        },
        "id": "jxU5ffkMNqLd",
        "outputId": "678c6af9-7cd9-484b-dbf7-9b0bc4547926"
      },
      "execution_count": 24,
      "outputs": [
        {
          "output_type": "execute_result",
          "data": {
            "text/plain": [
              "False"
            ]
          },
          "metadata": {},
          "execution_count": 24
        }
      ]
    },
    {
      "cell_type": "markdown",
      "source": [
        "## **Lamda**"
      ],
      "metadata": {
        "id": "ORO1EfVaNwjw"
      }
    },
    {
      "cell_type": "markdown",
      "source": [
        "Se usa la palabra lambda, luego se definen los parámetros, y al final se agrega el cuerpo de la función, que en este caso sólo puede incluir una sola sentencia: la sentencia return. No hace falta escribir return, lambda sabe que tiene que regresar la única línea de código que tiene."
      ],
      "metadata": {
        "id": "QfARny81NxyN"
      }
    },
    {
      "cell_type": "code",
      "source": [
        "palabras = [\"achicoria\", \"pasto\", \"sol\", \"loquillo\", \"moquillo\", \"sed\", \"pez\", \"jacaranda\", \"mil\"]\n",
        "\n",
        "list(filter(lambda x: len(x) > 5, palabras))"
      ],
      "metadata": {
        "colab": {
          "base_uri": "https://localhost:8080/"
        },
        "id": "icl8aNJxODlf",
        "outputId": "ec1e9f90-db05-4c00-e4eb-8f43c4707978"
      },
      "execution_count": 25,
      "outputs": [
        {
          "output_type": "execute_result",
          "data": {
            "text/plain": [
              "['achicoria', 'loquillo', 'moquillo', 'jacaranda']"
            ]
          },
          "metadata": {},
          "execution_count": 25
        }
      ]
    },
    {
      "cell_type": "code",
      "source": [
        "numeros = [3, 5, -1, -7, -8, 4, -78, 5, -46, 56, 98, 9, -1, -2, -4]\n",
        "\n",
        "list(filter(lambda x: x < 0, numeros))"
      ],
      "metadata": {
        "colab": {
          "base_uri": "https://localhost:8080/"
        },
        "id": "W5Hs3SlCOFk9",
        "outputId": "d1a6fc8f-ea5d-4f03-dd0f-b39911738cf5"
      },
      "execution_count": 26,
      "outputs": [
        {
          "output_type": "execute_result",
          "data": {
            "text/plain": [
              "[-1, -7, -8, -78, -46, -1, -2, -4]"
            ]
          },
          "metadata": {},
          "execution_count": 26
        }
      ]
    },
    {
      "cell_type": "code",
      "source": [
        "list(filter(lambda x: not(x < 0), numeros))"
      ],
      "metadata": {
        "colab": {
          "base_uri": "https://localhost:8080/"
        },
        "id": "KBj5B4h0OM1z",
        "outputId": "3f1fb5db-9b6b-4c8e-b59e-d8385f51d7ef"
      },
      "execution_count": 27,
      "outputs": [
        {
          "output_type": "execute_result",
          "data": {
            "text/plain": [
              "[3, 5, 4, 5, 56, 98, 9]"
            ]
          },
          "metadata": {},
          "execution_count": 27
        }
      ]
    }
  ]
}